{
 "cells": [
  {
   "cell_type": "code",
   "execution_count": 1,
   "id": "123d58e5-5aa8-4c04-8aa1-04909b1ddc45",
   "metadata": {},
   "outputs": [],
   "source": [
    "predictors_to_use = [\n",
    "        [ 'In Death Zone', lambda r: 1 if abs(r['Latitude']) < 36 else 0 ],\n",
    "        [ 'Sunlight', lambda r: math.cos((r['Longitude']-50) * math.pi / 180) ], # sunlight?\n",
    "        [ 'Hi Pi 1', lambda r: max(0, r['Pi'] - math.pi) ], # pi too high\n",
    "        [ 'Hi Pi 2', lambda r: max(0, r['Pi'] - 3.15) ], # pi too high\n",
    "        [ 'Low Pi', lambda r: max(0, math.pi - r['Pi']) ], # pi too low\n",
    "        [ 'Extreme Smell', lambda r: 1 if r['Smell_Level'] == 2 else 0 ], # EXTREME smell\n",
    "        [ 'No Smell', lambda r: 1 if r['Smell_Level'] == 0 else 0 ], # no smell\n",
    "        [ 'Excellent Shui', lambda r: 1 if r['Feng_Shui_Quality'] == 2 else 0 ], # good shui\n",
    "        [ 'Bad Shui', lambda r: 1 if r['Feng_Shui_Quality'] == 0 else 0 ], # bad shui\n",
    "        [ 'Apple', lambda r: r['Air_Apple'] ],\n",
    "        [ 'Burning', lambda r: r['Air_Burn'] ],\n",
    "        [ 'Copper', lambda r: r['Air_Copper'] ],\n",
    "        [ 'Mint', lambda r: r['Air_Mint'] ],\n",
    "        [ 'Humming', lambda r: r['Sound_Humming'] ],\n",
    "        [ 'Squelching', lambda r: r['Sound_Squelching'] ],\n",
    "        [ 'Buzzing', lambda r: r['Sound_Buzzing'] ],\n",
    "        [ 'Skittering', lambda r: r['Sound_Skittering'] ],  \n",
    "        [ 'Murphy-Linear', lambda r: r['Murphy'] ], \n",
    "        [ 'Murphy-Square', lambda r: r['Murphy'] ** 2 ],  \n",
    "        [ 'Murphy-2^N', lambda r: 2**r['Murphy'] ],  \n",
    "        [ 'Murphy-3^N', lambda r: 3**r['Murphy'] ],  \n",
    "        [ 'Murphy-4^N', lambda r: 4**r['Murphy'] ], \n",
    "    ]"
   ]
  },
  {
   "cell_type": "code",
   "execution_count": 2,
   "id": "9cdd0d73-b6ea-4b7d-b5af-c4cc64ceb58f",
   "metadata": {
    "tags": []
   },
   "outputs": [
    {
     "name": "stdout",
     "output_type": "stream",
     "text": [
      "['Longitude', 'Latitude', 'Shortitude', 'Deltitude', 'Pi', 'Murphy', 'Smell_Level', 'Feng_Shui_Quality', 'Air_Apple', 'Air_Burn', 'Air_Copper', 'Air_Mint', 'Sound_Humming', 'Sound_Skittering', 'Sound_Squelching', 'Sound_Buzzing', 'Performance']\n",
      "Loaded 10407 rows\n",
      "\n"
     ]
    }
   ],
   "source": [
    "\n",
    "import math\n",
    "\n",
    "f = 'C:\\\\dndsci_zppg_formatted.csv'\n",
    "\n",
    "file = open(f)\n",
    "\n",
    "col_name_line = file.readline()\n",
    "col_names = col_name_line.split(',')\n",
    "col_names = [x.replace('\\n','') for x in col_names]\n",
    "print(col_names)\n",
    "\n",
    "rows = []\n",
    "\n",
    "while True:\n",
    "    line = file.readline()\n",
    "    if len(line) < 1:\n",
    "        break\n",
    "\n",
    "    vals = line.split(',')\n",
    "        \n",
    "    vals = [x.replace('\\n','') for x in vals]\n",
    "    vals = [x for x in vals if len(x)]\n",
    "    row_struct = {}\n",
    "    for i in range(len(vals)):\n",
    "        row_struct[col_names[i]] = float(vals[i])\n",
    "    rows.append(row_struct)\n",
    "    \n",
    "print('Loaded {} rows\\n'.format(len(rows)))\n",
    "\n",
    "def log_row(log_row, mode='a'):\n",
    "    log_string = ','.join([str(e) for e in log_row])+\"\\n\"\n",
    "    f = open('dndsci_zppg_score.csv', mode)\n",
    "    f.write(log_string)"
   ]
  },
  {
   "cell_type": "code",
   "execution_count": 3,
   "id": "463920fa-9061-42d2-9c18-20b844e2b768",
   "metadata": {
    "tags": []
   },
   "outputs": [],
   "source": [
    "import numpy as np\n",
    "\n",
    "predictors = []\n",
    "scores = []\n",
    "\n",
    "for r in rows:\n",
    "    predictors.append([p[1](r) for p in predictors_to_use])\n",
    "    scores.append([math.log(r['Performance'],10)*-1])\n",
    "\n",
    "predictors = np.array(np.matrix(predictors))\n",
    "scores = np.array(np.matrix(scores))\n"
   ]
  },
  {
   "cell_type": "code",
   "execution_count": 4,
   "id": "5af3f067-9602-48d3-9885-b29e3d227028",
   "metadata": {
    "tags": []
   },
   "outputs": [
    {
     "name": "stdout",
     "output_type": "stream",
     "text": [
      "[[ 2.06735036e-01 -5.27305434e-02 -4.11474563e+00  8.96268940e+00\n",
      "   5.75635613e+00 -9.55218834e-02 -1.20815532e-01 -2.20653645e-02\n",
      "   7.50532882e-02 -1.43966236e-01 -2.98200793e-01 -2.44789564e-01\n",
      "  -2.79766845e-01  6.33593097e-01  3.01202086e-01  1.25874636e-01\n",
      "   1.73229850e-02 -2.09347596e-02 -2.44578121e-02  7.79440733e-02\n",
      "  -1.04544565e-02  1.11593018e-03]]\n",
      "[0.3575762]\n"
     ]
    }
   ],
   "source": [
    "from sklearn.linear_model import LinearRegression\n",
    "regressor = LinearRegression()\n",
    "regressor.fit(np.asarray(predictors), np.asarray(scores))\n",
    "\n",
    "# display coefficients\n",
    "print(regressor.coef_)\n",
    "print(regressor.intercept_)"
   ]
  },
  {
   "cell_type": "code",
   "execution_count": 5,
   "id": "0fc48f9d-6fa9-42c5-84c2-234168271432",
   "metadata": {
    "tags": []
   },
   "outputs": [
    {
     "name": "stdout",
     "output_type": "stream",
     "text": [
      "In Death Zone : 0.2067350364928715\n",
      "Sunlight : -0.052730543411768305\n",
      "Hi Pi 1 : -4.114745626642051\n",
      "Hi Pi 2 : 8.962689400353522\n",
      "Low Pi : 5.756356131255769\n",
      "Extreme Smell : -0.09552188338412596\n",
      "No Smell : -0.1208155320309348\n",
      "Excellent Shui : -0.02206536448091116\n",
      "Bad Shui : 0.0750532882477745\n",
      "Apple : -0.14396623550258927\n",
      "Burning : -0.2982007933940471\n",
      "Copper : -0.24478956406742985\n",
      "Mint : -0.2797668454177703\n",
      "Humming : 0.6335930965019667\n",
      "Squelching : 0.30120208578549734\n",
      "Buzzing : 0.12587463622379025\n",
      "Skittering : 0.0173229850179329\n",
      "Murphy-Linear : -0.020934759603605683\n",
      "Murphy-Square : -0.02445781210524455\n",
      "Murphy-2^N : 0.07794407327664456\n",
      "Murphy-3^N : -0.01045445650523344\n",
      "Murphy-4^N : 0.0011159301815777192\n"
     ]
    }
   ],
   "source": [
    "for i in range(len(predictors_to_use)):\n",
    "    print('{} : {}'.format(predictors_to_use[i][0], regressor.coef_[0][i]))"
   ]
  },
  {
   "cell_type": "code",
   "execution_count": 6,
   "id": "148ddb9e-49c0-41d5-9205-8ff3876ba7ff",
   "metadata": {
    "tags": []
   },
   "outputs": [
    {
     "name": "stdout",
     "output_type": "stream",
     "text": [
      "Unexplained score diffs range from -4.74% to 3.04%\n"
     ]
    }
   ],
   "source": [
    "penalty_diffs = []\n",
    "score_diffs = []\n",
    "log_row(col_names + ['Actual_Penalty', 'Predicted_Penalty', 'Predicted Score', 'Penalty Diff', 'Score Diff'], mode='w')\n",
    "for i in range(len(rows)):\n",
    "    row = rows[i]\n",
    "    row_to_log = []\n",
    "    for col in col_names:\n",
    "        row_to_log.append(row[col])\n",
    "    \n",
    "    actual_penalty = scores[i][0]\n",
    "    row_to_log.append(actual_penalty)\n",
    "    pred_penalty = regressor.intercept_[0]\n",
    "    for j in range(len(predictors[i])):\n",
    "        pred_penalty = pred_penalty + (predictors[i][j] * regressor.coef_[0][j])\n",
    "    row_to_log.append(pred_penalty)\n",
    "    pred_score = 10**(-1*pred_penalty)\n",
    "    row_to_log.append(pred_score)\n",
    "    penalty_diff = actual_penalty - pred_penalty\n",
    "    row_to_log.append(penalty_diff)\n",
    "    penalty_diffs.append(penalty_diff)\n",
    "    score_diff = row['Performance'] - pred_score\n",
    "    row_to_log.append(score_diff)\n",
    "    score_diffs.append(score_diff)\n",
    "    log_row(row_to_log)\n",
    "    \n",
    "print('Unexplained score diffs range from {:.2f}% to {:.2f}%'.format(min(score_diffs)*100, max(score_diffs)*100))\n",
    "        "
   ]
  },
  {
   "cell_type": "code",
   "execution_count": 7,
   "id": "42a6682a-91bc-4150-bed8-8c516a3a5305",
   "metadata": {
    "tags": []
   },
   "outputs": [
    {
     "name": "stdout",
     "output_type": "stream",
     "text": [
      "[1.08618615]\n"
     ]
    }
   ],
   "source": [
    "print(scores[i])"
   ]
  },
  {
   "cell_type": "code",
   "execution_count": 8,
   "id": "8e15b444-5a74-4582-adb4-d9de34941087",
   "metadata": {},
   "outputs": [
    {
     "name": "stdout",
     "output_type": "stream",
     "text": [
      "['Site_ID', 'Longitude', 'Latitude', 'Shortitude', 'Deltitude', 'Pi', 'Murphy', 'Smell_Level', 'Feng_Shui_Quality', 'Air_Apple', 'Air_Burn', 'Air_Copper', 'Air_Mint', 'Sound_Humming', 'Sound_Skittering', 'Sound_Squelching', 'Sound_Buzzing']\n",
      "Loaded 110809 rows\n",
      "\n"
     ]
    }
   ],
   "source": [
    "f = 'dndsci_zppg__sites_formatted.csv'\n",
    "\n",
    "file = open(f)\n",
    "\n",
    "col_name_line = file.readline()\n",
    "col_names = col_name_line.split(',')\n",
    "col_names = [x.replace('\\n','') for x in col_names]\n",
    "print(col_names)\n",
    "\n",
    "rows = []\n",
    "\n",
    "while True:\n",
    "    line = file.readline()\n",
    "    if len(line) < 1:\n",
    "        break\n",
    "\n",
    "    vals = line.split(',')\n",
    "        \n",
    "    vals = [x.replace('\\n','') for x in vals]\n",
    "    vals = [x for x in vals if len(x)]\n",
    "    row_struct = {}\n",
    "    for i in range(len(vals)):\n",
    "        row_struct[col_names[i]] = float(vals[i])\n",
    "    rows.append(row_struct)\n",
    "    \n",
    "print('Loaded {} rows\\n'.format(len(rows)))\n",
    "\n",
    "def log_row(log_row, mode='a'):\n",
    "    log_string = ','.join([str(e) for e in log_row])+\"\\n\"\n",
    "    f = open('dndsci_zppg_sites_score.csv', mode)\n",
    "    f.write(log_string)\n",
    "\n",
    "log_row(col_names + ['Predicted_Penalty', 'Predicted_Score'], mode='w')\n",
    "for i in range(len(rows)):\n",
    "    r = rows[i]\n",
    "    row_to_log = []\n",
    "    row_predictors = [p[1](r) for p in predictors_to_use]\n",
    "    for col in col_names:\n",
    "        row_to_log.append(r[col])\n",
    "    pred_penalty = regressor.intercept_[0]\n",
    "    for j in range(len(row_predictors)):\n",
    "        pred_penalty = pred_penalty + (row_predictors[j] * regressor.coef_[0][j])\n",
    "    row_to_log.append(pred_penalty)\n",
    "    pred_score = 10**(-1*pred_penalty)\n",
    "    row_to_log.append(pred_score)\n",
    "    log_row(row_to_log)"
   ]
  },
  {
   "cell_type": "code",
   "execution_count": 9,
   "id": "19299e11-9405-4758-93fb-8b5208e4858b",
   "metadata": {
    "tags": []
   },
   "outputs": [
    {
     "name": "stdout",
     "output_type": "stream",
     "text": [
      "Done!\n"
     ]
    }
   ],
   "source": [
    "print('Done!')"
   ]
  },
  {
   "cell_type": "code",
   "execution_count": null,
   "id": "332db380-11f6-4d1d-90e3-263acba10523",
   "metadata": {},
   "outputs": [],
   "source": []
  }
 ],
 "metadata": {
  "kernelspec": {
   "display_name": "Python 3 (ipykernel)",
   "language": "python",
   "name": "python3"
  },
  "language_info": {
   "codemirror_mode": {
    "name": "ipython",
    "version": 3
   },
   "file_extension": ".py",
   "mimetype": "text/x-python",
   "name": "python",
   "nbconvert_exporter": "python",
   "pygments_lexer": "ipython3",
   "version": "3.11.5"
  }
 },
 "nbformat": 4,
 "nbformat_minor": 5
}
